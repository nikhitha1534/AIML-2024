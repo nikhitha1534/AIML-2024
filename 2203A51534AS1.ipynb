{
  "nbformat": 4,
  "nbformat_minor": 0,
  "metadata": {
    "colab": {
      "provenance": []
    },
    "kernelspec": {
      "name": "python3",
      "display_name": "Python 3"
    },
    "language_info": {
      "name": "python"
    }
  },
  "cells": [
    {
      "cell_type": "code",
      "source": [
        "list=[1,2,3,4]\n",
        "list1=[7,8,9,5]\n",
        "print(list+list1)"
      ],
      "metadata": {
        "colab": {
          "base_uri": "https://localhost:8080/"
        },
        "id": "svE-ZgiWB_Cg",
        "outputId": "0984cc7f-cbf0-4e0f-cc03-52688719c6ba"
      },
      "execution_count": null,
      "outputs": [
        {
          "output_type": "stream",
          "name": "stdout",
          "text": [
            "[1, 2, 3, 4, 7, 8, 9, 5]\n"
          ]
        }
      ]
    },
    {
      "cell_type": "code",
      "source": [],
      "metadata": {
        "id": "yYVuTDLFHQYR"
      },
      "execution_count": null,
      "outputs": []
    },
    {
      "cell_type": "code",
      "source": [
        "import numpy as np\n",
        "list2=np.array(list)\n",
        "list3=np.array(list1)\n",
        "print(list)"
      ],
      "metadata": {
        "colab": {
          "base_uri": "https://localhost:8080/"
        },
        "id": "WTz31hskCMxo",
        "outputId": "c75313f8-d047-4ef3-d06e-554019519044"
      },
      "execution_count": null,
      "outputs": [
        {
          "output_type": "stream",
          "name": "stdout",
          "text": [
            "[1, 2, 3, 4]\n"
          ]
        }
      ]
    },
    {
      "cell_type": "code",
      "source": [
        "x = 5\n",
        "print(type(x))\n",
        "\n",
        "y = \"Hello, World!\"\n",
        "print(type(y))\n",
        "\n",
        "z = [1, 2, 3]\n",
        "print(type(z))\n"
      ],
      "metadata": {
        "colab": {
          "base_uri": "https://localhost:8080/"
        },
        "id": "PXpvAN9oCU0f",
        "outputId": "586a2267-57db-4f30-e7cb-6bfcd76e8138"
      },
      "execution_count": null,
      "outputs": [
        {
          "output_type": "stream",
          "name": "stdout",
          "text": [
            "<class 'int'>\n",
            "<class 'str'>\n",
            "<class 'list'>\n"
          ]
        }
      ]
    },
    {
      "cell_type": "code",
      "source": [
        "x = 5\n",
        "y = 2.5\n",
        "z = [1, 2, 3]\n",
        "result_multiply_x_y = x * y\n",
        "result_multiply_y_z = [num * y for num in z]\n",
        "result_divide_x_y = x / y\n",
        "result_divide_y_z = [num / y for num in z]\n",
        "result_power_x_y = x ** y\n",
        "result_power_z_y = [num ** y for num in z]\n",
        "print(\"Multiplication (x * y):, result_multiply_x_y\")\n",
        "print(\"Multiplication (y * z):, result_multiply_y_z\")\n",
        "print(\"\\nDivision (x / y):, result_divide_x_y\")\n",
        "print(\"Division (z / y):, result_divide_y_z\")\n",
        "print(\"\\nExponentiation (x ** y):, result_power_x_y\")\n",
        "print(\"Exponentiation (z ** y):, result_power_z_y\")\n"
      ],
      "metadata": {
        "colab": {
          "base_uri": "https://localhost:8080/"
        },
        "id": "3B-9TsfcCrQf",
        "outputId": "2155eed4-15cd-4ada-84c2-a62f1a43ce1c"
      },
      "execution_count": null,
      "outputs": [
        {
          "output_type": "stream",
          "name": "stdout",
          "text": [
            "Multiplication (x * y):, result_multiply_x_y\n",
            "Multiplication (y * z):, result_multiply_y_z\n",
            "\n",
            "Division (x / y):, result_divide_x_y\n",
            "Division (z / y):, result_divide_y_z\n",
            "\n",
            "Exponentiation (x ** y):, result_power_x_y\n",
            "Exponentiation (z ** y):, result_power_z_y\n"
          ]
        }
      ]
    },
    {
      "cell_type": "code",
      "source": [
        "import numpy as np\n",
        "list2=np.array(list)\n",
        "list3=np.array(list1)\n",
        "print(list2+list3)"
      ],
      "metadata": {
        "colab": {
          "base_uri": "https://localhost:8080/"
        },
        "id": "nIqDUSDjC0c-",
        "outputId": "8b953675-ba75-4c1e-f264-422489764430"
      },
      "execution_count": null,
      "outputs": [
        {
          "output_type": "stream",
          "name": "stdout",
          "text": [
            "[ 8 10 12  9]\n"
          ]
        }
      ]
    },
    {
      "cell_type": "code",
      "source": [
        "print(np.sin(30))"
      ],
      "metadata": {
        "colab": {
          "base_uri": "https://localhost:8080/"
        },
        "id": "DoP8766PD9Ri",
        "outputId": "617aa07b-7408-42a7-c037-2e69917dc22f"
      },
      "execution_count": null,
      "outputs": [
        {
          "output_type": "stream",
          "name": "stdout",
          "text": [
            "-0.9880316240928618\n"
          ]
        }
      ]
    },
    {
      "cell_type": "code",
      "source": [
        "print(np.log(30))"
      ],
      "metadata": {
        "colab": {
          "base_uri": "https://localhost:8080/"
        },
        "id": "ZmkZLROiED1X",
        "outputId": "e772da0e-7e19-45aa-be7d-6d68cf07bd45"
      },
      "execution_count": null,
      "outputs": [
        {
          "output_type": "stream",
          "name": "stdout",
          "text": [
            "3.4011973816621555\n"
          ]
        }
      ]
    },
    {
      "cell_type": "code",
      "source": [
        "print(np.log2(30))"
      ],
      "metadata": {
        "colab": {
          "base_uri": "https://localhost:8080/"
        },
        "id": "-v6lQACTEGHM",
        "outputId": "a01abcf3-c565-46af-8f51-d33f3645ecf2"
      },
      "execution_count": null,
      "outputs": [
        {
          "output_type": "stream",
          "name": "stdout",
          "text": [
            "4.906890595608519\n"
          ]
        }
      ]
    },
    {
      "cell_type": "code",
      "source": [
        "print(np.exp(30))"
      ],
      "metadata": {
        "colab": {
          "base_uri": "https://localhost:8080/"
        },
        "id": "QoWyBQ99EMo3",
        "outputId": "f3c8f73b-6437-4a51-d3e9-e7ced479de78"
      },
      "execution_count": null,
      "outputs": [
        {
          "output_type": "stream",
          "name": "stdout",
          "text": [
            "10686474581524.463\n"
          ]
        }
      ]
    },
    {
      "cell_type": "code",
      "source": [
        "m=['kiran','arun','vijay','varun']\n",
        "m2=[ '25','30','35','40','45']\n",
        "m3=[ '145','151','165','173']\n",
        "m4=['45','55','65','75']\n",
        "print(m)\n",
        "print(m2)\n",
        "print(m3)\n",
        "print(m4)\n"
      ],
      "metadata": {
        "colab": {
          "base_uri": "https://localhost:8080/"
        },
        "id": "xvRhGgx1ExGX",
        "outputId": "826dc29b-2af0-491b-dce0-dcc59dcd82cc"
      },
      "execution_count": null,
      "outputs": [
        {
          "output_type": "stream",
          "name": "stdout",
          "text": [
            "['kiran', 'arun', 'vijay', 'varun']\n",
            "['25', '30', '35', '40', '45']\n",
            "['145', '151', '165', '173']\n",
            "['45', '55', '65', '75']\n"
          ]
        }
      ]
    },
    {
      "cell_type": "code",
      "source": [
        "m=['kiran','arun','vijay','varun']\n",
        "m2=[ 25,30,35,40,45]\n",
        "m3=[ 145,151,165,173]\n",
        "m4=[45,55,65,75]\n",
        "import matplotlib.pyplot as plt"
      ],
      "metadata": {
        "id": "DKUfOSeGE0Rj"
      },
      "execution_count": null,
      "outputs": []
    },
    {
      "cell_type": "code",
      "source": [
        "plt.plot(m3,m4)"
      ],
      "metadata": {
        "colab": {
          "base_uri": "https://localhost:8080/",
          "height": 447
        },
        "id": "QsJCZlrUE-CM",
        "outputId": "08a5145a-6805-4051-a1ce-a2f000b21004"
      },
      "execution_count": null,
      "outputs": [
        {
          "output_type": "execute_result",
          "data": {
            "text/plain": [
              "[<matplotlib.lines.Line2D at 0x7f2c98c16b00>]"
            ]
          },
          "metadata": {},
          "execution_count": 13
        },
        {
          "output_type": "display_data",
          "data": {
            "text/plain": [
              "<Figure size 640x480 with 1 Axes>"
            ],
            "image/png": "[encoded data removed]"
          },
          "metadata": {}
        }
      ]
    },
    {
      "cell_type": "code",
      "source": [
        "plt.pie(m3)"
      ],
      "metadata": {
        "colab": {
          "base_uri": "https://localhost:8080/",
          "height": 545
        },
        "id": "RnwJapbMFHXW",
        "outputId": "ed6f4d0a-dc3a-4774-c6f6-a950ec69e26d"
      },
      "execution_count": null,
      "outputs": [
        {
          "output_type": "execute_result",
          "data": {
            "text/plain": [
              "([<matplotlib.patches.Wedge at 0x7f2c981b0700>,\n",
              "  <matplotlib.patches.Wedge at 0x7f2c981b0610>,\n",
              "  <matplotlib.patches.Wedge at 0x7f2c981b0fd0>,\n",
              "  <matplotlib.patches.Wedge at 0x7f2c981b1330>],\n",
              " [Text(0.8280711384073963, 0.7240843802601178, ''),\n",
              "  Text(-0.6341547296680975, 0.8988035262723342, ''),\n",
              "  Text(-0.9019348693713771, -0.6296931724356213, ''),\n",
              "  Text(0.7199721747424567, -0.8316490050475728, '')])"
            ]
          },
          "metadata": {},
          "execution_count": 14
        },
        {
          "output_type": "display_data",
          "data": {
            "text/plain": [
              "<Figure size 640x480 with 1 Axes>"
            ],
            "image/png": "[encoded data removed]"
          },
          "metadata": {}
        }
      ]
    },
    {
      "cell_type": "code",
      "source": [
        "plt.bar(m3,m4)"
      ],
      "metadata": {
        "colab": {
          "base_uri": "https://localhost:8080/",
          "height": 447
        },
        "id": "sChY2MgbFKNE",
        "outputId": "777a20c5-4f5f-4fda-f346-40c1b971af6f"
      },
      "execution_count": null,
      "outputs": [
        {
          "output_type": "execute_result",
          "data": {
            "text/plain": [
              "<BarContainer object of 4 artists>"
            ]
          },
          "metadata": {},
          "execution_count": 15
        },
        {
          "output_type": "display_data",
          "data": {
            "text/plain": [
              "<Figure size 640x480 with 1 Axes>"
            ],
            "image/png": "[encoded data removed]"
          },
          "metadata": {}
        }
      ]
    },
    {
      "cell_type": "code",
      "source": [
        "plt.hist(m3,m4)"
      ],
      "metadata": {
        "colab": {
          "base_uri": "https://localhost:8080/",
          "height": 482
        },
        "id": "gItOLb6LFQly",
        "outputId": "6ffa8f72-dad8-4ff4-a759-f6c146af3dd2"
      },
      "execution_count": null,
      "outputs": [
        {
          "output_type": "execute_result",
          "data": {
            "text/plain": [
              "(array([0., 0., 0.]),\n",
              " array([45., 55., 65., 75.]),\n",
              " <BarContainer object of 3 artists>)"
            ]
          },
          "metadata": {},
          "execution_count": 16
        },
        {
          "output_type": "display_data",
          "data": {
            "text/plain": [
              "<Figure size 640x480 with 1 Axes>"
            ],
            "image/png": "[encoded data removed]"
          },
          "metadata": {}
        }
      ]
    },
    {
      "cell_type": "code",
      "source": [
        "import pandas as pd\n",
        "df_tsv = pd.read_csv('/content/2203A51534 a1 task3.ipynb', sep='\\t')\n",
        "print(df_tsv)"
      ],
      "metadata": {
        "id": "Rn5uRj-ZGf50",
        "colab": {
          "base_uri": "https://localhost:8080/"
        },
        "outputId": "a1c3b365-6d45-4b16-fb05-f098ce09420f"
      },
      "execution_count": null,
      "outputs": [
        {
          "output_type": "stream",
          "name": "stdout",
          "text": [
            "                                       <!DOCTYPE html>\n",
            "0    <!-- saved from url=(0025)https://web.whatsapp...\n",
            "1    <html class=\"js serviceworker adownload cssani...\n",
            "2                   def misplaced_tiles(puzzle, goal):\n",
            "3        # Calculate the number of misplaced tiles,...\n",
            "4        return np.sum(np.where(puzzle != goal, 1, ...\n",
            "..                                                 ...\n",
            "340      \"0xf72af5dde8017821b4431676797ea7f181aba2f...\n",
            "341      \"0xfaccd996aff57da4ce0c6f37dcd9af5427c738d...\n",
            "342      \"0xfb7c4c88e42b2a6dc7b79b6276fc8eff91130f2...\n",
            "343                                                  ]\n",
            "344                           }</script></body></html>\n",
            "\n",
            "[345 rows x 1 columns]\n"
          ]
        }
      ]
    }
  ]
}